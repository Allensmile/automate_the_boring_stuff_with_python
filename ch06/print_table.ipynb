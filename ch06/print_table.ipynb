{
 "cells": [
  {
   "cell_type": "markdown",
   "metadata": {},
   "source": [
    "# Ch6 Practice Project: Table Printer\n",
    "\n",
    "Write a function named printTable() that takes a list of lists of strings and displays it in a well-organized table with each column right-justified. Assume that all the inner lists will contain the same number of strings"
   ]
  },
  {
   "cell_type": "code",
   "execution_count": 1,
   "metadata": {},
   "outputs": [],
   "source": [
    "def printTable(data):\n",
    "    # Find longest string in each inner list\n",
    "    colWidths = [0] * len(data)\n",
    "    for i in range(len(data)):\n",
    "        for j in range(len(data[i])):\n",
    "            if len(data[i][j]) > colWidths[i]:\n",
    "                colWidths[i] = len(data[i][j])\n",
    "\n",
    "    # Print row-by-row\n",
    "    for i in range(len(data[0])):\n",
    "        row = ''\n",
    "        for j in range(len(data)):\n",
    "            row += (data[j][i] + '  ').rjust(colWidths[j] + 2)\n",
    "        print(row)"
   ]
  },
  {
   "cell_type": "code",
   "execution_count": 2,
   "metadata": {},
   "outputs": [
    {
     "name": "stdout",
     "output_type": "stream",
     "text": [
      "  apples  Alice   dogs  \n",
      " oranges    Bob   cats  \n",
      "cherries  Carol  moose  \n",
      "  banana  David  goose  \n"
     ]
    }
   ],
   "source": [
    "#Test it works\n",
    "\n",
    "tableData = [['apples', 'oranges', 'cherries', 'banana'],\n",
    "             ['Alice', 'Bob', 'Carol', 'David'],\n",
    "             ['dogs', 'cats', 'moose', 'goose']]\n",
    "\n",
    "printTable(tableData)"
   ]
  }
 ],
 "metadata": {
  "kernelspec": {
   "display_name": "Python 3",
   "language": "python",
   "name": "python3"
  },
  "language_info": {
   "codemirror_mode": {
    "name": "ipython",
    "version": 3
   },
   "file_extension": ".py",
   "mimetype": "text/x-python",
   "name": "python",
   "nbconvert_exporter": "python",
   "pygments_lexer": "ipython3",
   "version": "3.6.2"
  }
 },
 "nbformat": 4,
 "nbformat_minor": 2
}
