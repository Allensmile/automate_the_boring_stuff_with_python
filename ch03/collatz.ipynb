{
 "cells": [
  {
   "cell_type": "markdown",
   "metadata": {},
   "source": [
    "# Ch3 Practice project\n",
    "## The Collatz sequence\n",
    "\n",
    "Write a function named collatz() that has one parameter named number. If number is even, then collatz() should print number // 2 and return this value. If number is odd, then collatz() should print and return 3 * number + 1.\n",
    "\n",
    "Then write a program that lets the user type in an integer and that keeps calling collatz() on that number until the function returns the value 1."
   ]
  },
  {
   "cell_type": "code",
   "execution_count": 1,
   "metadata": {},
   "outputs": [],
   "source": [
    "def collatz(number):\n",
    "    print(number)\n",
    "    while number != 1:\n",
    "        if number % 2 == 0:\n",
    "            number = number / 2\n",
    "        else:\n",
    "            number = 3 * number + 1\n",
    "        print(int(number))"
   ]
  },
  {
   "cell_type": "code",
   "execution_count": 2,
   "metadata": {},
   "outputs": [
    {
     "name": "stdout",
     "output_type": "stream",
     "text": [
      "Input a positive integer:\n",
      "12\n",
      "12\n",
      "6\n",
      "3\n",
      "10\n",
      "5\n",
      "16\n",
      "8\n",
      "4\n",
      "2\n",
      "1\n"
     ]
    }
   ],
   "source": [
    "while True:\n",
    "    print('Input a positive integer:')\n",
    "    try:\n",
    "        num = abs(int(input()))\n",
    "        break\n",
    "    except ValueError:\n",
    "        print('Postive integer required.')\n",
    "        continue\n",
    "\n",
    "collatz(num)"
   ]
  }
 ],
 "metadata": {
  "kernelspec": {
   "display_name": "Python 3",
   "language": "python",
   "name": "python3"
  },
  "language_info": {
   "codemirror_mode": {
    "name": "ipython",
    "version": 3
   },
   "file_extension": ".py",
   "mimetype": "text/x-python",
   "name": "python",
   "nbconvert_exporter": "python",
   "pygments_lexer": "ipython3",
   "version": "3.6.2"
  }
 },
 "nbformat": 4,
 "nbformat_minor": 2
}
