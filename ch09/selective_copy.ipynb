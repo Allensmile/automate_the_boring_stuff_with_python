{
 "cells": [
  {
   "cell_type": "markdown",
   "metadata": {},
   "source": [
    "# Chapter 9 Practice Project\n",
    "## Selective Copy\n",
    "\n",
    "Write a program that walks through a folder tree and searches for files with a certain file extension (such as .pdf or .jpg). Copy these files from whatever location they are in to a new folder."
   ]
  },
  {
   "cell_type": "code",
   "execution_count": 37,
   "metadata": {},
   "outputs": [],
   "source": [
    "# Set oldDir, file extension, newDir\n",
    "import os, shutil\n",
    "\n",
    "oldDir = 'selCopyTest'\n",
    "oldDirAbs = os.path.abspath(oldDir)\n",
    "\n",
    "newDir = 'selCopyNew'\n",
    "newDirAbs = os.path.abspath(newDir)\n",
    "\n",
    "fileEx = '.txt'\n",
    "\n",
    "# Walk through dir tree\n",
    "for folder, subfolders, files in os.walk(oldDirAbs):\n",
    "    for file in files:\n",
    "        # If file matches extension, copy it\n",
    "        if file.endswith('.txt'):\n",
    "            fileAbs = os.path.join(folder, file)\n",
    "            shutil.copy(fileAbs, newDirAbs)"
   ]
  }
 ],
 "metadata": {
  "kernelspec": {
   "display_name": "Python 3",
   "language": "python",
   "name": "python3"
  },
  "language_info": {
   "codemirror_mode": {
    "name": "ipython",
    "version": 3
   },
   "file_extension": ".py",
   "mimetype": "text/x-python",
   "name": "python",
   "nbconvert_exporter": "python",
   "pygments_lexer": "ipython3",
   "version": "3.6.2"
  }
 },
 "nbformat": 4,
 "nbformat_minor": 2
}
