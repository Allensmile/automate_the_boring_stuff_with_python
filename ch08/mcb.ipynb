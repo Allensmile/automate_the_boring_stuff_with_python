{
 "cells": [
  {
   "cell_type": "markdown",
   "metadata": {
    "collapsed": true
   },
   "source": [
    "# Ch8 Practice Project\n",
    "## Extending the Multiclipboard\n",
    "\n",
    "Extend the multiclipboard program in this chapter so that it has a delete *keyword* command line argument that will delete a keyword from the shelf. Then add a delete command line argument that will delete all keywords."
   ]
  },
  {
   "cell_type": "markdown",
   "metadata": {},
   "source": [
    "*Note: Presented here as a Jupyter notebook. If you want to run this program you'll have to download it as a regular .py file and run it from the command line.*"
   ]
  },
  {
   "cell_type": "code",
   "execution_count": 4,
   "metadata": {
    "collapsed": true
   },
   "outputs": [],
   "source": [
    "# mcb.py - Saves and loads pieces of text to the clipboard.\n",
    "# Usage: python mcb.py save <keyword> - Save clipboard to keyword.\n",
    "#        python mcb.py <keyword> - Loads keyword to clipboard.\n",
    "#        python mcb.py list - Loads all keywords to clipboard.\n",
    "#        python mcb.py delete <keyword> - Deletes keyword.\n",
    "#        python mcb.py delete - Deletes all keywords."
   ]
  },
  {
   "cell_type": "code",
   "execution_count": 6,
   "metadata": {
    "collapsed": true
   },
   "outputs": [],
   "source": [
    "import shelve, pyperclip, sys\n",
    "\n",
    "mcbShelf = shelve.open('mcb')\n",
    "\n",
    "if len(sys.argv) == 3 and sys.argv[1].lower() == 'save':\n",
    "    mcbShelf[sys.argv[2]] = pyperclip.paste()\n",
    "elif len(sys.argv) == 2:\n",
    "    # List keywords\n",
    "    if sys.argv[1].lower() == 'list':\n",
    "        pyperclip.copy(str(list(mcbShelf.keys())))\n",
    "    # Delete all keywords\n",
    "    elif sys.argv[1].lower() == 'delete':\n",
    "        mcbShelf.clear()\n",
    "    # Load keyword\n",
    "    elif sys.argv[1] in mcbShelf:\n",
    "        pyperclip.copy(mcbShelf[sys.argv[1]])\n",
    "elif len(sys.argv) == 3 and sys.argv[1].lower() == 'delete':\n",
    "    # Delete keyword\n",
    "    del mcbShelf[sys.argv[2]]\n",
    "\n",
    "mcbShelf.close()"
   ]
  }
 ],
 "metadata": {
  "kernelspec": {
   "display_name": "Python 3",
   "language": "python",
   "name": "python3"
  },
  "language_info": {
   "codemirror_mode": {
    "name": "ipython",
    "version": 3
   },
   "file_extension": ".py",
   "mimetype": "text/x-python",
   "name": "python",
   "nbconvert_exporter": "python",
   "pygments_lexer": "ipython3",
   "version": "3.6.2"
  }
 },
 "nbformat": 4,
 "nbformat_minor": 2
}
