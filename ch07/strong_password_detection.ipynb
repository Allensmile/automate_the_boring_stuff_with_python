{
 "cells": [
  {
   "cell_type": "markdown",
   "metadata": {
    "collapsed": true
   },
   "source": [
    "# Ch7 Practice Project\n",
    "\n",
    "Write a function that uses regular expressions to make sure the password string it is passed is strong. A strong password is defined as one that is at least eight characters long, contains both uppercase and lowercase characters, and has at least one digit."
   ]
  },
  {
   "cell_type": "code",
   "execution_count": 2,
   "metadata": {
    "collapsed": true
   },
   "outputs": [],
   "source": [
    "import re\n",
    "\n",
    "def passwordChecker(passwords):\n",
    "    # Check for length\n",
    "    passwordLengthRegex = re.compile(r'\\w{8,}')\n",
    "\n",
    "    # Check for uppercase letter\n",
    "    passwordUpperCaseRegex = re.compile(r'[A-Z]')\n",
    "\n",
    "    # Check for lowercase letter\n",
    "    passwordLowerCaseRegex = re.compile(r'[a-z]')\n",
    "\n",
    "    # Check for numeral\n",
    "    passwordNumeralRegex = re.compile(r'[0-9]')\n",
    "\n",
    "    for password in passwords:\n",
    "        print('')\n",
    "        moLength = passwordLengthRegex.search(password)\n",
    "        if moLength == None:\n",
    "            print('Password \"' + password + '\" not valid.'\n",
    "                 ' Must be at least eight chaarcters long.')\n",
    "            continue\n",
    "\n",
    "        moUpperCase = passwordUpperCaseRegex.search(password)\n",
    "        if moUpperCase == None:\n",
    "            print('Password \"' + password + '\" not valid.'\n",
    "                 ' Must contain at least one upper case letter.')\n",
    "            continue\n",
    "\n",
    "        moLowerCase = passwordLowerCaseRegex.search(password)\n",
    "        if moLowerCase == None:\n",
    "            print('Password \"' + password + '\" not valid.'\n",
    "                 ' Must contain at least one lower case letter.')\n",
    "            continue\n",
    "\n",
    "        moNumeral = passwordNumeralRegex.search(password)\n",
    "        if moNumeral == None:\n",
    "            print('Password \"' + password + '\" not valid.'\n",
    "                 ' Must contain at least one numeral.')\n",
    "            continue\n",
    "        \n",
    "        print('Password \"' + password + '\" is valid.')"
   ]
  },
  {
   "cell_type": "code",
   "execution_count": 3,
   "metadata": {},
   "outputs": [
    {
     "name": "stdout",
     "output_type": "stream",
     "text": [
      "\n",
      "Password \"Aa1Aa1Aa1\" is valid.\n",
      "\n",
      "Password \"AA1AA1AA1\" not valid. Must contain at least one lower case letter.\n",
      "\n",
      "Password \"aa1aa1aa1\" not valid. Must contain at least one upper case letter.\n",
      "\n",
      "Password \"AaOneAaOneAaOne\" not valid. Must contain at least one numeral.\n",
      "\n",
      "Password \"Aa1Aa1\" not valid. Must be at least eight chaarcters long.\n"
     ]
    }
   ],
   "source": [
    "# Test it works.\n",
    "# First password should pass, all other should fail.\n",
    "passwords = ['Aa1Aa1Aa1',\n",
    "            'AA1AA1AA1',\n",
    "            'aa1aa1aa1',\n",
    "            'AaOneAaOneAaOne',\n",
    "            'Aa1Aa1']\n",
    "        \n",
    "passwordChecker(passwords)"
   ]
  }
 ],
 "metadata": {
  "kernelspec": {
   "display_name": "Python 3",
   "language": "python",
   "name": "python3"
  },
  "language_info": {
   "codemirror_mode": {
    "name": "ipython",
    "version": 3
   },
   "file_extension": ".py",
   "mimetype": "text/x-python",
   "name": "python",
   "nbconvert_exporter": "python",
   "pygments_lexer": "ipython3",
   "version": "3.6.2"
  }
 },
 "nbformat": 4,
 "nbformat_minor": 2
}
