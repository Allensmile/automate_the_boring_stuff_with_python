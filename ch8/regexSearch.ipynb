{
 "cells": [
  {
   "cell_type": "markdown",
   "metadata": {},
   "source": [
    "# Chapter 8 Practice Project\n",
    "## Regex Search\n",
    "\n",
    "Write a program that opens all .txt files in a folder and searches for any line that matches a user-supplied regular expression. The results should be printed to the screen."
   ]
  },
  {
   "cell_type": "code",
   "execution_count": 19,
   "metadata": {},
   "outputs": [
    {
     "name": "stdout",
     "output_type": "stream",
     "text": [
      "Enter search string: pan(an)?da\n",
      "The ADJECTIVE panda walked to the NOUN and then VERB. A nearby NOUN was unaffected by these events.\n",
      "\n",
      "The silly panda walked to the chandelier and then screamed. A nearby pickup truck was unaffected by these events.\n",
      "\n"
     ]
    }
   ],
   "source": [
    "# Ask for and store user expression\n",
    "userPhrase = input('Enter search string: ')\n",
    "\n",
    "# Compile regex from user expression\n",
    "import re\n",
    "phraseRegex = re.compile(userPhrase)\n",
    "\n",
    "# Find .txt files\n",
    "import glob\n",
    "files = glob.glob('./*.txt')\n",
    "\n",
    "# Loop through lines in files\n",
    "for file in files:\n",
    "    textFile = open(file)\n",
    "    lines = textFile.readlines()\n",
    "    \n",
    "    for line in lines:\n",
    "        # Find lines with regex and print\n",
    "        if phraseRegex.search(line):\n",
    "            print(line)"
   ]
  }
 ],
 "metadata": {
  "kernelspec": {
   "display_name": "Python 3",
   "language": "python",
   "name": "python3"
  },
  "language_info": {
   "codemirror_mode": {
    "name": "ipython",
    "version": 3
   },
   "file_extension": ".py",
   "mimetype": "text/x-python",
   "name": "python",
   "nbconvert_exporter": "python",
   "pygments_lexer": "ipython3",
   "version": "3.6.2"
  }
 },
 "nbformat": 4,
 "nbformat_minor": 2
}
