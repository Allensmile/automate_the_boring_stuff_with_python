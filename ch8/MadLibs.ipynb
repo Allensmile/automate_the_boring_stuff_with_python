{
 "cells": [
  {
   "cell_type": "markdown",
   "metadata": {},
   "source": [
    "# Chapter 8 Practice Project\n",
    "\n",
    "## Mad Libs\n",
    "\n",
    "Create a Mad Libs program that reads in text files and lets the user add their own text anywhere the word ADJECTIVE, NOUN, ADVERB, or VERB appears in the text file. For example, a text file may look like this:\n",
    "\n",
    "> The ADJECTIVE panda walked to the NOUN and then VERB. A nearby NOUN was unaffected by these events.\n",
    "\n",
    "The program would find these occurrences and prompt the user to replace them.\n",
    "\n",
    "```\n",
    "Enter an adjective:\n",
    "silly\n",
    "Enter a noun:\n",
    "chandelier\n",
    "Enter a verb:\n",
    "screamed\n",
    "Enter a noun:\n",
    "pickup truck\n",
    "```\n",
    "\n",
    "The following text file would then be created:\n",
    "\n",
    "> The silly panda walked to the chandelier and then screamed. A nearby pickup truck was unaffected by these events. \n",
    "\n",
    "The results should be printed to the screen and saved to a new text file."
   ]
  },
  {
   "cell_type": "code",
   "execution_count": 1,
   "metadata": {},
   "outputs": [
    {
     "name": "stdout",
     "output_type": "stream",
     "text": [
      "Enter an adjective: silly\n",
      "Enter a noun: chandelier\n",
      "Enter a verb: screamed\n",
      "Enter a noun: pickup truck\n",
      "The silly panda walked to the chandelier and then screamed. A nearby pickup truck was unaffected by these events.\n",
      "\n"
     ]
    }
   ],
   "source": [
    "# Load file\n",
    "story = open(\"/path/to/madLibsInput.txt\")\n",
    "storyText = story.read()\n",
    "\n",
    "# Find occurences of ADJECTIVE, NOUN, ADVERB, VERB\n",
    "import re\n",
    "replaceRegex = re.compile(r'ADJECTIVE|NOUN|ADVERB|VERB')\n",
    "toReplace = replaceRegex.findall(storyText)\n",
    "\n",
    "# Prompt user for replacements for each ADJECTIVE, NOUN, ADVERB, VERB\n",
    "for word in toReplace:\n",
    "    if word == 'ADJECTIVE' or word == 'ADVERB':\n",
    "        userWord = input('Enter an ' + word.lower() + ': ')\n",
    "    else:\n",
    "        userWord = input('Enter a ' + word.lower() + ': ')\n",
    "    # Replace placeholders with user input\n",
    "    storyText = re.sub(word, userWord, storyText, 1)\n",
    "\n",
    "# Print result to screen\n",
    "print(storyText)\n",
    "\n",
    "# Save result to new text file\n",
    "outFile = open('madLibsOutput.txt', 'w')\n",
    "outFile.write(storyText)\n",
    "outFile.close()"
   ]
  }
 ],
 "metadata": {
  "kernelspec": {
   "display_name": "Python 3",
   "language": "python",
   "name": "python3"
  },
  "language_info": {
   "codemirror_mode": {
    "name": "ipython",
    "version": 3
   },
   "file_extension": ".py",
   "mimetype": "text/x-python",
   "name": "python",
   "nbconvert_exporter": "python",
   "pygments_lexer": "ipython3",
   "version": "3.6.1"
  }
 },
 "nbformat": 4,
 "nbformat_minor": 2
}
