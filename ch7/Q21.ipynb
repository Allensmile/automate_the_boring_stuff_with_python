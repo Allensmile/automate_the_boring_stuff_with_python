{
 "cells": [
  {
   "cell_type": "markdown",
   "metadata": {
    "collapsed": true
   },
   "source": [
    "# Ch7, Q21\n",
    "\n",
    "How would you write a regex that matches the full name of someone whose last name is Nakamoto? You can assume that the first name that comes before it will always be one word that begins with a capital letter. The regex must match the following:\n",
    "    \n",
    "'Satoshi Nakamoto'  \n",
    "'Alice Nakamoto'  \n",
    "'Robocop Nakamoto'  \n",
    "\n",
    "but not the following:\n",
    "\n",
    "'satoshi Nakamoto' (where the first name is not capitalized)  \n",
    "'Mr. Nakamoto' (where the preceding word has a nonletter character)  \n",
    "'Nakamoto' (which has no first name)  \n",
    "'Satoshi nakamoto' (where Nakamoto is not capitalized)  "
   ]
  },
  {
   "cell_type": "code",
   "execution_count": 2,
   "metadata": {
    "collapsed": true
   },
   "outputs": [],
   "source": [
    "import re\n",
    "\n",
    "NakamotoRegex = re.compile(r'[A-Z][a-z]*\\sNakamoto')"
   ]
  },
  {
   "cell_type": "code",
   "execution_count": 3,
   "metadata": {},
   "outputs": [
    {
     "name": "stdout",
     "output_type": "stream",
     "text": [
      "Satoshi Nakamoto\n",
      "Alice Nakamoto\n",
      "Robocop Nakamoto\n"
     ]
    }
   ],
   "source": [
    "# Test it works\n",
    "names = ['Satoshi Nakamoto',\n",
    "         'Alice Nakamoto',\n",
    "         'Robocop Nakamoto',\n",
    "         'satoshi Nakamoto',\n",
    "         'Mr. Nakamoto',\n",
    "         'Nakamoto',\n",
    "         'Satoshi nakamoto']\n",
    "\n",
    "for name in names:\n",
    "    mo = NakamotoRegex.search(name)\n",
    "    if mo != None:\n",
    "        print(mo.group())"
   ]
  }
 ],
 "metadata": {
  "kernelspec": {
   "display_name": "Python 3",
   "language": "python",
   "name": "python3"
  },
  "language_info": {
   "codemirror_mode": {
    "name": "ipython",
    "version": 3
   },
   "file_extension": ".py",
   "mimetype": "text/x-python",
   "name": "python",
   "nbconvert_exporter": "python",
   "pygments_lexer": "ipython3",
   "version": "3.6.2"
  }
 },
 "nbformat": 4,
 "nbformat_minor": 2
}
