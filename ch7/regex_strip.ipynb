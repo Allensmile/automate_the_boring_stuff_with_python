{
 "cells": [
  {
   "cell_type": "markdown",
   "metadata": {
    "collapsed": true
   },
   "source": [
    "# Ch7 Practice Project\n",
    "## Regex Version of strip()\n",
    "\n",
    "Write a function that takes a string and does the same thing as the strip() string method. If no other arguments are passed other than the string to strip, then whitespace characters will be removed from the beginning and end of the string. Otherwise, the characters  specified in the second argument to the function will be removed from the string."
   ]
  },
  {
   "cell_type": "code",
   "execution_count": 24,
   "metadata": {},
   "outputs": [],
   "source": [
    "import re\n",
    "\n",
    "def stripRegex(string, toStrip=' '):\n",
    "    \n",
    "    regexSymbols = ['*','+','?','^','$','.','\\\\','{','}','[',']']\n",
    "\n",
    "    lenBeforeStrip = len(string)\n",
    "    lenAfterStrip = len(string) - 1\n",
    "    \n",
    "    # Keep stripping characters until the string stops getting shorter\n",
    "    while lenBeforeStrip != lenAfterStrip:\n",
    "        lenBeforeStrip = len(string)\n",
    "        for char in toStrip:\n",
    "            # Put escape character before any regex symbols so that function\n",
    "            # interprets them as characters, rather than regex symbols.\n",
    "            if char in regexSymbols:\n",
    "                char = '\\\\' + char\n",
    "            \n",
    "            stripRegBegin = re.compile('^(%s)*'%char)\n",
    "            stripRegEnd = re.compile('(%s)*$'%char)\n",
    "\n",
    "            string = stripRegBegin.sub('', string)\n",
    "            string = stripRegEnd.sub('', string)\n",
    "        lenAfterStrip = len(string)\n",
    "    \n",
    "    return string"
   ]
  },
  {
   "cell_type": "code",
   "execution_count": 25,
   "metadata": {},
   "outputs": [
    {
     "name": "stdout",
     "output_type": "stream",
     "text": [
      " sample string \n"
     ]
    }
   ],
   "source": [
    "# Test it works\n",
    "\n",
    "print(stripRegex('abcbca sample string c*{', 'a{b*c'))"
   ]
  },
  {
   "cell_type": "code",
   "execution_count": 26,
   "metadata": {},
   "outputs": [
    {
     "name": "stdout",
     "output_type": "stream",
     "text": [
      "sample string\n"
     ]
    }
   ],
   "source": [
    "print(stripRegex(' sample string '))"
   ]
  }
 ],
 "metadata": {
  "kernelspec": {
   "display_name": "Python 3",
   "language": "python",
   "name": "python3"
  },
  "language_info": {
   "codemirror_mode": {
    "name": "ipython",
    "version": 3
   },
   "file_extension": ".py",
   "mimetype": "text/x-python",
   "name": "python",
   "nbconvert_exporter": "python",
   "pygments_lexer": "ipython3",
   "version": "3.6.2"
  }
 },
 "nbformat": 4,
 "nbformat_minor": 2
}
