{
 "cells": [
  {
   "cell_type": "markdown",
   "metadata": {
    "collapsed": true
   },
   "source": [
    "# Ch7, Q20\n",
    "\n",
    "How would you write a regex that matches a number with commas for every three digits? It must match the following:\n",
    "\n",
    "'42'  \n",
    "'1,234'  \n",
    "'6,368,745'  \n",
    "\n",
    "but not the following:\n",
    "\n",
    "'12,34,567' (which has only two digits between the commas)  \n",
    "'1234' (which lacks commas)"
   ]
  },
  {
   "cell_type": "code",
   "execution_count": 4,
   "metadata": {
    "collapsed": true
   },
   "outputs": [],
   "source": [
    "import re\n",
    "\n",
    "numCommaRegex = re.compile(r'^(\\d{1,3})(,\\d{3})*$')"
   ]
  },
  {
   "cell_type": "code",
   "execution_count": 5,
   "metadata": {},
   "outputs": [
    {
     "name": "stdout",
     "output_type": "stream",
     "text": [
      "42\n",
      "1,234\n",
      "6,368,745\n"
     ]
    }
   ],
   "source": [
    "# Test it works\n",
    "numbers = ['42', '1,234', '6,368,745', '12,34,567', '1234']\n",
    "\n",
    "for number in numbers:\n",
    "    mo = numCommaRegex.search(number)\n",
    "    if mo != None:\n",
    "        print(mo.group())"
   ]
  }
 ],
 "metadata": {
  "kernelspec": {
   "display_name": "Python 3",
   "language": "python",
   "name": "python3"
  },
  "language_info": {
   "codemirror_mode": {
    "name": "ipython",
    "version": 3
   },
   "file_extension": ".py",
   "mimetype": "text/x-python",
   "name": "python",
   "nbconvert_exporter": "python",
   "pygments_lexer": "ipython3",
   "version": "3.6.2"
  }
 },
 "nbformat": 4,
 "nbformat_minor": 2
}
