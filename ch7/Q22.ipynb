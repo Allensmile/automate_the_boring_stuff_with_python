{
 "cells": [
  {
   "cell_type": "markdown",
   "metadata": {
    "collapsed": true
   },
   "source": [
    "# Ch7, Q22\n",
    "\n",
    "How would you write a regex that matches a sentence where the first word is either Alice, Bob, or Carol; the second word is either eats, pets, or throws; the third word is apples, cats, or baseballs; and the sentence ends with a period? This regex should be case-insensitive. It must match the following:\n",
    "\n",
    "'Alice eats apples.'  \n",
    "'Bob pets cats.'  \n",
    "'Carol throws baseballs.'  \n",
    "'Alice throws Apples.'  \n",
    "'BOB EATS CATS.'\n",
    "\n",
    "but not the following:\n",
    "\n",
    "'Robocop eats apples.'  \n",
    "'ALICE THROWS FOOTBALLS.'  \n",
    "'Carol eats 7 cats.'"
   ]
  },
  {
   "cell_type": "code",
   "execution_count": 2,
   "metadata": {
    "collapsed": true
   },
   "outputs": [],
   "source": [
    "import re\n",
    "\n",
    "sentenceRegex = re.compile(r'''\n",
    "                            (Alice|Bob|Carol)\n",
    "                            (\\s)\n",
    "                            (eats|pets|throws)\n",
    "                            (\\s)\n",
    "                            (apples|cats|baseballs)\n",
    "                            (\\.)\n",
    "                            ''', re.IGNORECASE| re.VERBOSE)"
   ]
  },
  {
   "cell_type": "code",
   "execution_count": 3,
   "metadata": {},
   "outputs": [
    {
     "name": "stdout",
     "output_type": "stream",
     "text": [
      "Alice eats apples.\n",
      "Bob pets cats.\n",
      "Carol throws baseballs.\n",
      "Alice throws Apples.\n",
      "BOB EATS CATS.\n"
     ]
    }
   ],
   "source": [
    "# Test it works\n",
    "sentences = ['Alice eats apples.',\n",
    "            'Bob pets cats.',\n",
    "            'Carol throws baseballs.',\n",
    "            'Alice throws Apples.',\n",
    "            'BOB EATS CATS.',\n",
    "            'Robocop eats apples.',\n",
    "            'ALICE THROWS FOOTBALLS.',\n",
    "            'Carol eats 7 cats.']\n",
    "\n",
    "for sentence in sentences:\n",
    "    mo = sentenceRegex.search(sentence)\n",
    "    if mo != None:\n",
    "        print(mo.group())"
   ]
  }
 ],
 "metadata": {
  "kernelspec": {
   "display_name": "Python 3",
   "language": "python",
   "name": "python3"
  },
  "language_info": {
   "codemirror_mode": {
    "name": "ipython",
    "version": 3
   },
   "file_extension": ".py",
   "mimetype": "text/x-python",
   "name": "python",
   "nbconvert_exporter": "python",
   "pygments_lexer": "ipython3",
   "version": "3.6.2"
  }
 },
 "nbformat": 4,
 "nbformat_minor": 2
}
