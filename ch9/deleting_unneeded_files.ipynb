{
 "cells": [
  {
   "cell_type": "markdown",
   "metadata": {},
   "source": [
    "# Chapter 9 Practice Project\n",
    "## Deleting unneeded files\n",
    "\n",
    "Write a program that walks through a folder tree and searches for exceptionally large files or folders—say, ones that have a file size of more than 100MB. (Remember, to get a file’s size, you can use os.path.getsize() from the os module.) Print these files with their absolute path to the screen."
   ]
  },
  {
   "cell_type": "code",
   "execution_count": 26,
   "metadata": {},
   "outputs": [],
   "source": [
    "import os\n",
    "\n",
    "# Set beginning dir\n",
    "rootDir = '../'\n",
    "\n",
    "# Walk through dir tree\n",
    "for folder, subfolders, files in os.walk(rootDir):\n",
    "    for file in files:\n",
    "        filepath = os.path.join(folder, file)\n",
    "        MBsize = os.path.getsize(os.path.abspath(filepath)) / 1024.0**2\n",
    "        if MBsize > 100:\n",
    "            print(os.path.abspath(file))"
   ]
  }
 ],
 "metadata": {
  "kernelspec": {
   "display_name": "Python 3",
   "language": "python",
   "name": "python3"
  },
  "language_info": {
   "codemirror_mode": {
    "name": "ipython",
    "version": 3
   },
   "file_extension": ".py",
   "mimetype": "text/x-python",
   "name": "python",
   "nbconvert_exporter": "python",
   "pygments_lexer": "ipython3",
   "version": "3.6.2"
  }
 },
 "nbformat": 4,
 "nbformat_minor": 2
}
