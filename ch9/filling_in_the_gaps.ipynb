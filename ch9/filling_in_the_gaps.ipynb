{
 "cells": [
  {
   "cell_type": "markdown",
   "metadata": {},
   "source": [
    "# Chapter 9 Practice Project\n",
    "## Filling in the gaps\n",
    "\n",
    "Write a program that finds all files with a given prefix, such as \n",
    "spam001.txt, spam002.txt, and so on, in a single folder and locates any gaps in the numbering (such as if there is a spam001.txt and spam003.txt but no spam002.txt). Have the program rename all the later files to close this gap.\n",
    "\n",
    "*I'm assuming:*\n",
    "* *files numbering is supposed to start at 001,*\n",
    "* *file numbers are limited to three digits, i.e. 001 - 999.*\n",
    "\n",
    "*The below code can be easily modified to accommodate different assumptions.* "
   ]
  },
  {
   "cell_type": "code",
   "execution_count": 1,
   "metadata": {},
   "outputs": [
    {
     "name": "stdout",
     "output_type": "stream",
     "text": [
      "['file011.txt', 'file010.txt', 'file004.txt', 'file006.txt', 'file007.txt', 'file003.txt', 'fileSpam.txt', 'fileEggs.txt']\n"
     ]
    }
   ],
   "source": [
    "import os, re, shutil\n",
    "\n",
    "rootDir = './gapDir'\n",
    "\n",
    "fileListAll = os.listdir(rootDir)\n",
    "print(fileListAll)"
   ]
  },
  {
   "cell_type": "markdown",
   "metadata": {},
   "source": [
    "So we want to ignore fileSpam.txt and fileEggs.txt, and renumber the numbered files file001.txt to file006.txt while mainting their order."
   ]
  },
  {
   "cell_type": "code",
   "execution_count": 2,
   "metadata": {
    "collapsed": true
   },
   "outputs": [],
   "source": [
    "# Set filename pattern and create regex\n",
    "filenameBase = 'file'\n",
    "filenameExt = '.txt'\n",
    "filenameRegex = filenameBase + r'\\d\\d\\d' + filenameExt\n",
    "\n",
    "# Create sorted list of filenames that match the pattern\n",
    "fileListNum = []\n",
    "\n",
    "for file in fileListAll:\n",
    "    match = re.search(filenameRegex, file)\n",
    "    if match:\n",
    "        fileListNum.append(file)\n",
    "\n",
    "fileListNum.sort()\n",
    "\n",
    "# Iterate through fileListNum and create the filename that we *should*\n",
    "# have at each position\n",
    "for i in range(len(fileListNum)):\n",
    "    fileNum = i + 1\n",
    "    fileNum = \"{0:03}\".format(fileNum)\n",
    "    filename = filenameBase + fileNum + filenameExt\n",
    "    \n",
    "    # If filename is numbered incorrectly, rename file to correct numerbing\n",
    "    if fileListNum[i] != filename:\n",
    "        oldFile = os.path.join(rootDir, fileListNum[i])\n",
    "        newFile = os.path.join(rootDir, filename)\n",
    "        shutil.move(oldFile, newFile)"
   ]
  },
  {
   "cell_type": "markdown",
   "metadata": {},
   "source": [
    "Check the results:"
   ]
  },
  {
   "cell_type": "code",
   "execution_count": 3,
   "metadata": {},
   "outputs": [
    {
     "name": "stdout",
     "output_type": "stream",
     "text": [
      "['file001.txt', 'file002.txt', 'file003.txt', 'file004.txt', 'file005.txt', 'file006.txt', 'fileEggs.txt', 'fileSpam.txt']\n"
     ]
    }
   ],
   "source": [
    "fileListNew = os.listdir(rootDir)\n",
    "fileListNew.sort()\n",
    "print(fileListNew)"
   ]
  },
  {
   "cell_type": "markdown",
   "metadata": {},
   "source": [
    "## Part 2\n",
    "\n",
    "As an added challenge, write another program that can insert gaps into numbered files so that a new file can be added.\n",
    "\n",
    "*Continuing with the directory listed above, let's insert a two-space gap after file003.txt. Again, code below can be easily modified for different scenarios.*"
   ]
  },
  {
   "cell_type": "code",
   "execution_count": 19,
   "metadata": {},
   "outputs": [],
   "source": [
    "# Define number *after* which we want gap inserted,\n",
    "# and size of desired gap\n",
    "gapStart = \"003\"\n",
    "gapSize = 2\n",
    "\n",
    "# Take all numbered files above gapStart, move them up by gapSize.\n",
    "# Note we have to start from highest-numbered file to avoid overwriting,\n",
    "# e.g. if we start at lowest-numbered file, file004.txt would overwrite\n",
    "# file005.txt etc.\n",
    "for i in range(len(fileListNum), int(gapStart), -1):\n",
    "    oldFileNum = i\n",
    "    oldFileNum = \"{0:03}\".format(oldFileNum)\n",
    "    oldFilename = filenameBase + oldFileNum + filenameExt\n",
    "    \n",
    "    newFileNum = i + gapSize\n",
    "    newFileNum = \"{0:03}\".format(newFileNum)\n",
    "    newFilename = filenameBase + newFileNum + filenameExt\n",
    "    \n",
    "    # Increase numbers in filenames\n",
    "    oldFile = os.path.join(rootDir, oldFilename)\n",
    "    newFile = os.path.join(rootDir, newFilename)\n",
    "    shutil.move(oldFile, newFile)"
   ]
  },
  {
   "cell_type": "markdown",
   "metadata": {},
   "source": [
    "Check the results:"
   ]
  },
  {
   "cell_type": "code",
   "execution_count": 20,
   "metadata": {},
   "outputs": [
    {
     "name": "stdout",
     "output_type": "stream",
     "text": [
      "['file001.txt', 'file002.txt', 'file003.txt', 'file006.txt', 'file007.txt', 'file008.txt', 'fileEggs.txt', 'fileSpam.txt']\n"
     ]
    }
   ],
   "source": [
    "fileListNew = os.listdir(rootDir)\n",
    "fileListNew.sort()\n",
    "print(fileListNew)"
   ]
  }
 ],
 "metadata": {
  "kernelspec": {
   "display_name": "Python 3",
   "language": "python",
   "name": "python3"
  },
  "language_info": {
   "codemirror_mode": {
    "name": "ipython",
    "version": 3
   },
   "file_extension": ".py",
   "mimetype": "text/x-python",
   "name": "python",
   "nbconvert_exporter": "python",
   "pygments_lexer": "ipython3",
   "version": "3.6.2"
  }
 },
 "nbformat": 4,
 "nbformat_minor": 2
}
