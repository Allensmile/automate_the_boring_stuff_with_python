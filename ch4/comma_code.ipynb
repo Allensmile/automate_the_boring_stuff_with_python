{
 "cells": [
  {
   "cell_type": "markdown",
   "metadata": {},
   "source": [
    "# Ch4 Practice Project\n",
    "## Comma code\n",
    "\n",
    "Say you have a list value like this:\n",
    "\n",
    "spam = ['apples', 'bananas', 'tofu', 'cats']\n",
    "\n",
    "Write a function that takes a list value as an argument and returns a string with all the items separated by a comma and a space, with and inserted before the last item. For example, passing the previous spam list to the function would return 'apples, bananas, tofu, and cats'. But your function should be able to work with any list value passed to it."
   ]
  },
  {
   "cell_type": "code",
   "execution_count": 2,
   "metadata": {
    "collapsed": true
   },
   "outputs": [],
   "source": [
    "def printList(listToPrint):\n",
    "    string = ''\n",
    "    for i in range(0, len(listToPrint)-1):\n",
    "        string += str(listToPrint[i])\n",
    "        string += ', '\n",
    "    string += 'and '\n",
    "    string += listToPrint[-1]\n",
    "    return string"
   ]
  },
  {
   "cell_type": "code",
   "execution_count": 3,
   "metadata": {},
   "outputs": [
    {
     "name": "stdout",
     "output_type": "stream",
     "text": [
      "apples, bananas, tofu, and cats\n",
      "apples, 1, bananas, True, tofu, -3.14, and cats\n"
     ]
    }
   ],
   "source": [
    "testList = ['apples', 'bananas', 'tofu', 'cats']\n",
    "print(printList(testList))\n",
    "\n",
    "testList = ['apples', 1, 'bananas', True, 'tofu', -3.14, 'cats']\n",
    "print(printList(testList))"
   ]
  }
 ],
 "metadata": {
  "kernelspec": {
   "display_name": "Python 3",
   "language": "python",
   "name": "python3"
  },
  "language_info": {
   "codemirror_mode": {
    "name": "ipython",
    "version": 3
   },
   "file_extension": ".py",
   "mimetype": "text/x-python",
   "name": "python",
   "nbconvert_exporter": "python",
   "pygments_lexer": "ipython3",
   "version": "3.6.2"
  }
 },
 "nbformat": 4,
 "nbformat_minor": 2
}
